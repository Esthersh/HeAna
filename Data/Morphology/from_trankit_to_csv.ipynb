{
 "cells": [
  {
   "cell_type": "markdown",
   "id": "a4aa034a",
   "metadata": {},
   "source": [
    "## Convert Trankit outputs to a single csv file"
   ]
  },
  {
   "cell_type": "code",
   "execution_count": null,
   "id": "1eef552d-02e2-4c96-a872-0738bc111aa9",
   "metadata": {},
   "outputs": [],
   "source": [
    "import pandas as pd\n",
    "import ast\n",
    "\n",
    "def get_word_pos(sample):\n",
    "    sample = ast.literal_eval(sample)\n",
    "    word = sample[0]\n",
    "    pos_dict = sample[1]\n",
    "    xpos_val = pos_dict['xpos']\n",
    "    upos_val = pos_dict['upos']\n",
    "    return word, xpos_val, upos_val"
   ]
  },
  {
   "cell_type": "code",
   "execution_count": null,
   "id": "5b8cf669-8a8e-473e-9033-3d719224dd9e",
   "metadata": {},
   "outputs": [],
   "source": [
    "df = pd.read_csv(\"trankit_pos_without_sentences.csv\", index_col=0)\n",
    "df[\"word_xpos_upos\"] = df.pos.apply(get_word_pos)\n",
    "wxu_df = df['word_xpos_upos'].apply(pd.Series)\n",
    "wxu_df.columns = ['word', 'xpos', 'upos']\n",
    "edited_data = pd.concat([df['sentence'], wxu_df], axis=1)"
   ]
  },
  {
   "cell_type": "code",
   "execution_count": null,
   "id": "e24f2b35-3fbc-4350-a74e-8060d3894eef",
   "metadata": {},
   "outputs": [],
   "source": [
    "edited_data.to_csv(\"trankit_pos_only_words.csv\")"
   ]
  }
 ],
 "metadata": {
  "kernelspec": {
   "display_name": "Python 3 (ipykernel)",
   "language": "python",
   "name": "python3"
  },
  "language_info": {
   "codemirror_mode": {
    "name": "ipython",
    "version": 3
   },
   "file_extension": ".py",
   "mimetype": "text/x-python",
   "name": "python",
   "nbconvert_exporter": "python",
   "pygments_lexer": "ipython3",
   "version": "3.8.10"
  }
 },
 "nbformat": 4,
 "nbformat_minor": 5
}
